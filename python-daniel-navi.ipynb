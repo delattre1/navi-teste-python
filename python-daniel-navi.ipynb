{
 "cells": [
  {
   "cell_type": "markdown",
   "metadata": {},
   "source": [
    "Questão 1 "
   ]
  },
  {
   "cell_type": "code",
   "execution_count": 13,
   "metadata": {},
   "outputs": [
    {
     "name": "stdout",
     "output_type": "stream",
     "text": [
      "O total de múltiplos é: 1378 números\n"
     ]
    }
   ],
   "source": [
    "#Pares multiplos de 49 e 37 até 5*1e6\n",
    "total_multiplos = 0\n",
    "last_number     = 5e6\n",
    "\n",
    "for i in range(1, int(last_number)+1):\n",
    "    if i % 2 == 0 and i % 49 == 0 and i % 37 ==0:\n",
    "        total_multiplos += 1\n",
    "        \n",
    "print(f'O total de múltiplos é: {total_multiplos} números')"
   ]
  },
  {
   "cell_type": "markdown",
   "metadata": {},
   "source": [
    "Questão 2"
   ]
  },
  {
   "cell_type": "code",
   "execution_count": 8,
   "metadata": {},
   "outputs": [
    {
     "name": "stdout",
     "output_type": "stream",
     "text": [
      "Os elementos do vetor são: \n",
      "\n",
      "0 - 0.00\n",
      "1 - 2.00\n",
      "2 - 23.00\n",
      "3 - 12.39\n",
      "4 - 249.00\n",
      "5 - 38.44\n",
      "6 - 5769.00\n",
      "7 - 135.78\n",
      "8 - 288801.00\n",
      "9 - 520.79\n",
      "\n",
      "A posição do maior elemento é: 8, com o valor: 288801.00\n",
      "A média do vetor é: 29555.14\n",
      "\n"
     ]
    }
   ],
   "source": [
    "from math import factorial, log\n",
    "from numpy import mean\n",
    "\n",
    "vetor_x = []\n",
    "maior_elemento = 0\n",
    "\n",
    "for i in range(10):\n",
    "    if i == 0:\n",
    "        vetor_x.append(i)\n",
    "        \n",
    "    elif i % 2 == 0:\n",
    "        vetor_x.append((3**i)+(7*factorial(i)))\n",
    "        \n",
    "    else:\n",
    "        vetor_x.append((2**i) + 4*log(i))\n",
    "        \n",
    "print(f\"Os elementos do vetor são: \\n\")\n",
    "\n",
    "for i in range(len(vetor_x)):\n",
    "    if vetor_x[i] > maior_elemento:\n",
    "        maior_elemento = vetor_x[i]\n",
    "        posicao_maior_elemento  = i \n",
    "        \n",
    "    print(f'{i} - {vetor_x[i]:.2f}')\n",
    "    \n",
    "print(f'\\nA posição do maior elemento é: {posicao_maior_elemento}, com o valor: {maior_elemento:.2f}')\n",
    "print(f'A média do vetor é: {mean(vetor_x):.2f}\\n')\n",
    "\n"
   ]
  },
  {
   "cell_type": "markdown",
   "metadata": {},
   "source": [
    "Questão 3"
   ]
  },
  {
   "cell_type": "code",
   "execution_count": 15,
   "metadata": {},
   "outputs": [],
   "source": [
    "#nao ficou claro em que estrutura a nota dos alunos seriam recebidas, \n",
    "#dessa forma, assumi duas listas: uma para nome e outra para nota.\n",
    "\n",
    "def read_scores(lista_notas, lista_alunos):\n",
    "    relacao_nota_aluno = {}\n",
    "    \n",
    "    for i in range(len(lista_notas)):\n",
    "        relacao_nota_aluno[alunos[i]] = notas[i]\n",
    "    \n",
    "    return relacao_nota_aluno\n",
    "    \n",
    "def melhor_nota(dic_alunos_notas):\n",
    "    melhor_nota = 0 \n",
    "    \n",
    "    for aluno,nota in dic_alunos_notas.items():\n",
    "        if nota > melhor_nota:\n",
    "            melhor_nota  = nota\n",
    "            melhor_aluno = aluno\n",
    "    \n",
    "    return melhor_aluno"
   ]
  },
  {
   "cell_type": "code",
   "execution_count": 16,
   "metadata": {},
   "outputs": [
    {
     "name": "stdout",
     "output_type": "stream",
     "text": [
      "O aluno com a melhor nota foi o aluno2, com a nota: 6\n",
      "\n",
      "Para conferir as notas: {'aluno1': 5, 'aluno2': 6, 'aluno3': 6, 'aluno4': 5, 'aluno5': 4}\n"
     ]
    }
   ],
   "source": [
    "from random import randrange\n",
    "\n",
    "alunos = ['aluno1', 'aluno2', 'aluno3', 'aluno4', 'aluno5']\n",
    "notas  = []\n",
    "\n",
    "for i in range(len(alunos)):\n",
    "    notas.append(randrange(0,10))\n",
    "\n",
    "relacao_nota_aluno = read_scores(notas, alunos)\n",
    "aluno_melhor_nota  = melhor_nota(relacao_nota_aluno)\n",
    "print(f'O aluno com a melhor nota foi o {aluno_melhor_nota}, com a nota: {relacao_nota_aluno[aluno_melhor_nota]}\\n')\n",
    "\n",
    "print(f'Para conferir as notas: {relacao_nota_aluno}')\n",
    "    "
   ]
  },
  {
   "cell_type": "code",
   "execution_count": null,
   "metadata": {},
   "outputs": [],
   "source": []
  }
 ],
 "metadata": {
  "kernelspec": {
   "display_name": "Python 3",
   "language": "python",
   "name": "python3"
  },
  "language_info": {
   "codemirror_mode": {
    "name": "ipython",
    "version": 3
   },
   "file_extension": ".py",
   "mimetype": "text/x-python",
   "name": "python",
   "nbconvert_exporter": "python",
   "pygments_lexer": "ipython3",
   "version": "3.9.1"
  }
 },
 "nbformat": 4,
 "nbformat_minor": 4
}
